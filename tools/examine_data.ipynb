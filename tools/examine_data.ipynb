{
 "cells": [
  {
   "cell_type": "code",
   "execution_count": 1,
   "metadata": {},
   "outputs": [
    {
     "name": "stdout",
     "output_type": "stream",
     "text": [
      "/home/wu/repo/gesture-wgan\n"
     ]
    }
   ],
   "source": [
    "%cd .."
   ]
  },
  {
   "cell_type": "code",
   "execution_count": 2,
   "metadata": {},
   "outputs": [],
   "source": [
    "import numpy as np\n",
    "import pickle\n",
    "from datasets.takekuchi.lowpass_filter import lowpass_filter\n",
    "from takekuchi_dataset_tool.rot_to_pos import rot2pos"
   ]
  },
  {
   "cell_type": "code",
   "execution_count": 3,
   "metadata": {},
   "outputs": [],
   "source": [
    "import numpy as np\n",
    "from sklearn.model_selection import GridSearchCV\n",
    "from sklearn.neighbors import KernelDensity\n",
    "\n",
    "\n",
    "def calculate_kde_batch(inputs, targets):\n",
    "    inputs = np.concatenate(inputs, axis=0)\n",
    "    targets = np.concatenate(targets, axis=0)\n",
    "    mean, std, se = calculate_kde(inputs, targets)\n",
    "    return mean, std, se\n",
    "\n",
    "\n",
    "def calculate_kde(inputs, targets, verbose=0):\n",
    "    params = {'bandwidth': np.logspace(-1, 1, 20)}\n",
    "    grid = GridSearchCV(KernelDensity(), params, cv=3)\n",
    "    grid.fit(inputs)\n",
    "    kde = grid.best_estimator_\n",
    "    scores = kde.score_samples(targets)\n",
    "    mean = np.mean(scores)\n",
    "    std = np.std(scores)\n",
    "    se = std / np.sqrt(len(inputs))\n",
    "    if verbose:\n",
    "        print(\"best bandwidth: {0}\".format(grid.best_estimator_.bandwidth))\n",
    "        print(f\"mean: {mean}, std: {std}, se: {se}\")\n",
    "    return mean, std, se\n",
    "\n",
    "def compute_derivative(data):\n",
    "    \"\"\"(T, D)\"\"\"\n",
    "    return data[1:] - data[:-1]\n",
    "\n",
    "def compute_velocity(motion):\n",
    "    '''(T, D)'''\n",
    "    T = motion.shape[0]\n",
    "    motion = motion.reshape(T, -1, 3)\n",
    "    velocity = np.ndarray(shape=(0, motion.shape[1]))\n",
    "    for t in range(1, T):\n",
    "        vel = np.sqrt(np.sum((motion[t] - motion[t-1]) ** 2, axis=-1))\n",
    "        velocity = np.append(velocity, vel[np.newaxis, :], axis=0)\n",
    "    return velocity"
   ]
  },
  {
   "cell_type": "code",
   "execution_count": 5,
   "metadata": {},
   "outputs": [],
   "source": [
    "with open(\"./data/takekuchi/processed/prosody/Y_dev.p\", 'rb') as f:\n",
    "    rots = pickle.load(f)\n",
    "\n",
    "# rots = list(map(lowpass_filter, rots))"
   ]
  },
  {
   "cell_type": "code",
   "execution_count": 7,
   "metadata": {},
   "outputs": [
    {
     "name": "stdout",
     "output_type": "stream",
     "text": [
      "Evaluating rotation\n",
      "Evaluating rotation velocity\n",
      "Evaluating rotation acceleration\n",
      "Evaluating position\n"
     ]
    }
   ],
   "source": [
    "print(\"Evaluating rotation\")\n",
    "kde_rot, _, _ = calculate_kde_batch(rots, rots)\n",
    "\n",
    "# Rotation velocity level\n",
    "print(\"Evaluating rotation velocity\")\n",
    "rot_vel_outputs = list(map(compute_velocity, rots))\n",
    "rot_vel_targets = list(map(compute_velocity, rots))\n",
    "kde_rot_vel, _, _ = calculate_kde_batch(rot_vel_outputs, rot_vel_targets)\n",
    "\n",
    "# Rotation acceleration level\n",
    "print(\"Evaluating rotation acceleration\")\n",
    "rot_acc_outputs = list(map(compute_derivative, rot_vel_outputs))\n",
    "rot_acc_targets = list(map(compute_derivative, rot_vel_targets))\n",
    "kde_rot_acc, _, _ = calculate_kde_batch(rot_acc_outputs, rot_acc_targets)\n",
    "\n",
    "# Position level\n",
    "print(\"Evaluating position\")\n",
    "# pos_outputs = list(map(rot2pos, rots))\n",
    "# pos_targets = list(map(rot2pos, rots))\n",
    "# kde_pos, _, _ = calculate_kde_batch(pos_outputs, pos_targets)\n",
    "\n",
    "# # Position velocity level\n",
    "# print(\"Evaluating position velocity\")\n",
    "# pos_vel_outputs = list(map(compute_velocity, pos_outputs))\n",
    "# pos_vel_targets = list(map(compute_velocity, pos_targets))\n",
    "# kde_pos_vel, _, _ = calculate_kde_batch(pos_vel_outputs, pos_vel_targets)\n",
    "\n",
    "# # Position acceleration level\n",
    "# print(\"Evaluating position acceleration\")\n",
    "# pos_acc_outputs = list(map(compute_derivative, pos_vel_outputs))\n",
    "# pos_acc_targets = list(map(compute_derivative, pos_vel_targets))\n",
    "# kde_pos_acc, _, _ = calculate_kde_batch(pos_acc_outputs, pos_acc_targets)"
   ]
  },
  {
   "cell_type": "code",
   "execution_count": 8,
   "metadata": {},
   "outputs": [
    {
     "name": "stdout",
     "output_type": "stream",
     "text": [
      "rot -106.39945247107352\n",
      "rot_vel -16.535067108637577\n",
      "rot_acc -16.747412230005207\n"
     ]
    }
   ],
   "source": [
    "print(\"rot\", kde_rot)\n",
    "print(\"rot_vel\", kde_rot_vel)\n",
    "print(\"rot_acc\", kde_rot_acc)\n",
    "# print(\"pos\", kde_pos)\n",
    "# print(\"pos_vel\", kde_pos_vel)\n",
    "# print(\"pos_acc\", kde_pos_acc)"
   ]
  },
  {
   "cell_type": "code",
   "execution_count": null,
   "metadata": {},
   "outputs": [],
   "source": []
  }
 ],
 "metadata": {
  "interpreter": {
   "hash": "952e90ba24abf5bb597bd7561cfc3bdaa2ee696c3a9249550465cf4077e7b8fd"
  },
  "kernelspec": {
   "display_name": "Python 3.6.13 64-bit ('gg': conda)",
   "language": "python",
   "name": "python3"
  },
  "language_info": {
   "codemirror_mode": {
    "name": "ipython",
    "version": 3
   },
   "file_extension": ".py",
   "mimetype": "text/x-python",
   "name": "python",
   "nbconvert_exporter": "python",
   "pygments_lexer": "ipython3",
   "version": "3.6.13"
  },
  "orig_nbformat": 4
 },
 "nbformat": 4,
 "nbformat_minor": 2
}
