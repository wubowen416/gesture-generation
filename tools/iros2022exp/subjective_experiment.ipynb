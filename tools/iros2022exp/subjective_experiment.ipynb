{
 "cells": [
  {
   "cell_type": "code",
   "execution_count": 1,
   "metadata": {},
   "outputs": [
    {
     "name": "stdout",
     "output_type": "stream",
     "text": [
      "/home/wu/repo/gesture-wgan/tools\n",
      "/home/wu/repo/gesture-wgan\n"
     ]
    }
   ],
   "source": [
    "%cd ..\n",
    "%cd .."
   ]
  },
  {
   "cell_type": "code",
   "execution_count": 1,
   "metadata": {},
   "outputs": [],
   "source": [
    "import pickle\n",
    "import numpy as np\n",
    "\n",
    "np.random.seed(1)"
   ]
  },
  {
   "cell_type": "code",
   "execution_count": 3,
   "metadata": {},
   "outputs": [],
   "source": [
    "# Load data\n",
    "with open('data/takekuchi/processed/prosody/X_dev.p', 'rb') as f:\n",
    "    X_test = pickle.load(f)"
   ]
  },
  {
   "cell_type": "code",
   "execution_count": 4,
   "metadata": {},
   "outputs": [
    {
     "name": "stdout",
     "output_type": "stream",
     "text": [
      "[13, 14, 19, 22, 34]\n"
     ]
    }
   ],
   "source": [
    "# Filter shorter than 10 secondsS\n",
    "idxs = [i for i, x in enumerate(X_test) if len(x) > 300]\n",
    "\n",
    "# Randomly seletect samples from dataset for exp\n",
    "idxs = sorted(np.random.choice(idxs, size=5, replace=False))\n",
    "print(idxs)"
   ]
  },
  {
   "cell_type": "code",
   "execution_count": 5,
   "metadata": {},
   "outputs": [
    {
     "name": "stdout",
     "output_type": "stream",
     "text": [
      "[1119 1121 1131 1137 1161]\n"
     ]
    }
   ],
   "source": [
    "idxs = np.array(idxs)*2 + 1093\n",
    "print(idxs)"
   ]
  },
  {
   "cell_type": "code",
   "execution_count": 2,
   "metadata": {},
   "outputs": [
    {
     "name": "stdout",
     "output_type": "stream",
     "text": [
      "[1, 23, 12]\n"
     ]
    }
   ],
   "source": [
    "# order of audio\n",
    "idxs = [1, 12, 23]\n",
    "np.random.shuffle(idxs)\n",
    "print(idxs)"
   ]
  },
  {
   "cell_type": "code",
   "execution_count": 3,
   "metadata": {},
   "outputs": [
    {
     "name": "stdout",
     "output_type": "stream",
     "text": [
      "[5, 27, 15, 4, 14, 24, 6, 3, 28, 2, 13, 25, 17, 16, 26]\n"
     ]
    }
   ],
   "source": [
    "# order of muted video\n",
    "idxs = [2, 3, 4, 5, 6, 13, 14, 15, 16, 17, 24, 25, 26, 27, 28]\n",
    "np.random.shuffle(idxs)\n",
    "print(idxs)"
   ]
  },
  {
   "cell_type": "code",
   "execution_count": 4,
   "metadata": {},
   "outputs": [
    {
     "name": "stdout",
     "output_type": "stream",
     "text": [
      "[21, 10, 32, 22, 7, 19, 8, 20, 30, 31, 29, 33, 9, 18, 11]\n"
     ]
    }
   ],
   "source": [
    "# order of video\n",
    "idxs = [7, 8, 9, 10, 11, 18, 19, 20, 21, 22, 29, 30, 31, 32, 33]\n",
    "np.random.shuffle(idxs)\n",
    "print(idxs)"
   ]
  },
  {
   "cell_type": "code",
   "execution_count": null,
   "metadata": {},
   "outputs": [],
   "source": []
  }
 ],
 "metadata": {
  "interpreter": {
   "hash": "952e90ba24abf5bb597bd7561cfc3bdaa2ee696c3a9249550465cf4077e7b8fd"
  },
  "kernelspec": {
   "display_name": "Python 3.6.13 ('gg')",
   "language": "python",
   "name": "python3"
  },
  "language_info": {
   "codemirror_mode": {
    "name": "ipython",
    "version": 3
   },
   "file_extension": ".py",
   "mimetype": "text/x-python",
   "name": "python",
   "nbconvert_exporter": "python",
   "pygments_lexer": "ipython3",
   "version": "3.6.13"
  },
  "orig_nbformat": 4
 },
 "nbformat": 4,
 "nbformat_minor": 2
}
