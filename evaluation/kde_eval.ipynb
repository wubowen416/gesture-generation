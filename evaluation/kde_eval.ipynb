{
 "cells": [
  {
   "cell_type": "code",
   "execution_count": 4,
   "metadata": {},
   "outputs": [
    {
     "name": "stdout",
     "output_type": "stream",
     "text": [
      "/home/wu/repo/gesture-wgan\n"
     ]
    }
   ],
   "source": [
    "%cd .."
   ]
  },
  {
   "cell_type": "code",
   "execution_count": 5,
   "metadata": {},
   "outputs": [],
   "source": [
    "import numpy as np\n",
    "import pickle\n",
    "from tools.takekuchi_dataset_tool.rot_to_pos import rot2pos\n",
    "from metrics import calculate_kde_score, calculate_mae, calculate_frechet_distance\n",
    "\n",
    "np.random.seed(1)"
   ]
  },
  {
   "cell_type": "code",
   "execution_count": 6,
   "metadata": {},
   "outputs": [],
   "source": [
    "def calculate_derivative(x: np.array) -> np.array:\n",
    "    x_prev = x[:-1]\n",
    "    x_next = x[1:]\n",
    "    der = x_next - x_prev\n",
    "    return der"
   ]
  },
  {
   "cell_type": "code",
   "execution_count": 10,
   "metadata": {},
   "outputs": [],
   "source": [
    "def evaluate_kde(motions_pred: list[np.array], motions_true: list[np.array], pca=False, dim_pca=10):\n",
    "\n",
    "    vels_pred = list(map(calculate_derivative, motions_pred))\n",
    "    vels_true = list(map(calculate_derivative, motions_true))\n",
    "\n",
    "    accs_pred = list(map(calculate_derivative, vels_pred))\n",
    "    accs_true = list(map(calculate_derivative, vels_true))\n",
    "\n",
    "    pose_kde = calculate_kde_score(motions_pred, motions_true, pca=pca, dim_pca=dim_pca)\n",
    "    vel_kde = calculate_kde_score(vels_pred, vels_true, pca=pca, dim_pca=dim_pca)\n",
    "    acc_kde = calculate_kde_score(accs_pred, accs_true, pca=pca, dim_pca=dim_pca)\n",
    "\n",
    "    return pose_kde, vel_kde, acc_kde"
   ]
  },
  {
   "cell_type": "code",
   "execution_count": 6,
   "metadata": {},
   "outputs": [],
   "source": [
    "# Load data\n",
    "with open('data/takekuchi/processed/prosody_hip/Y_dev.p', 'rb') as f:\n",
    "    Y_dev = pickle.load(f)\n",
    "\n",
    "with open('data/takekuchi/processed/prosody_hip/Y_test.p', 'rb') as f:\n",
    "    Y_test = pickle.load(f)"
   ]
  },
  {
   "cell_type": "code",
   "execution_count": 15,
   "metadata": {},
   "outputs": [
    {
     "name": "stdout",
     "output_type": "stream",
     "text": [
      "KDE best bandwidth: 10.0\n",
      "ll: -38.32777060661347, std: 1.6974812549759781, se: 0.016062653260935908\n",
      "KDE best bandwidth: 2.3357214690901213\n",
      "ll: -22.42603373976402, std: 2.840227740103801, se: 0.02693036230513999\n",
      "KDE best bandwidth: 2.9763514416313175\n",
      "ll: -24.43620514771498, std: 2.6016891932391335, se: 0.024718649110516255\n",
      "KDE best bandwidth: 10.0\n",
      "ll: -41.74997208319298, std: 7.052872806005663, se: 0.06673879316443836\n",
      "KDE best bandwidth: 2.3357214690901213\n",
      "ll: -23.274670772130342, std: 5.486596216463335, se: 0.05202259728861316\n",
      "KDE best bandwidth: 2.9763514416313175\n",
      "ll: -24.863096486879872, std: 4.037474079363285, se: 0.038360041360794676\n",
      "KDE best bandwidth: 10.0\n",
      "ll: -47.29144535598103, std: 18.78099118498652, se: 0.17771774999977916\n",
      "KDE best bandwidth: 1.8329807108324356\n",
      "ll: -26.393258259151768, std: 103.98959338065792, se: 0.9860045327220686\n",
      "KDE best bandwidth: 2.3357214690901213\n",
      "ll: -27.618803112597273, std: 99.46349723063429, se: 0.9450026904589107\n",
      "KDE best bandwidth: 10.0\n",
      "ll: -47.72838661865401, std: 21.37441577435987, se: 0.20225839209251245\n",
      "KDE best bandwidth: 1.8329807108324356\n",
      "ll: -26.39620456013897, std: 106.1645264073693, se: 1.0066267291648832\n",
      "KDE best bandwidth: 1.8329807108324356\n",
      "ll: -31.93338230559821, std: 208.3951370477048, se: 1.9799622039428926\n"
     ]
    }
   ],
   "source": [
    "\"\"\"Mismatch\"\"\"\n",
    "\n",
    "n_samples = 45\n",
    "ratios = [0, 0.2, 0.5, 1.0]\n",
    "data_mis = Y_test[:]\n",
    "\n",
    "pose_scores, vel_scores, acc_scores = [], [], []\n",
    "\n",
    "for r in ratios:\n",
    "\n",
    "    n_samples_mis = int(n_samples * r)\n",
    "    idxs = sorted(np.random.permutation(n_samples_mis))\n",
    "\n",
    "    for i in idxs:\n",
    "        data_mis[i] = Y_dev[i]\n",
    "\n",
    "    pose_score, vel_score, acc_score = evaluate_kde(data_mis, Y_test, pca=True, dim_pca=10)\n",
    "\n",
    "    pose_scores.append(pose_score)\n",
    "    vel_scores.append(vel_score)\n",
    "    acc_scores.append(acc_score)"
   ]
  },
  {
   "cell_type": "code",
   "execution_count": null,
   "metadata": {},
   "outputs": [],
   "source": []
  }
 ],
 "metadata": {
  "interpreter": {
   "hash": "37c1ed16a00a63b5af7363df11059dd7eca776121b04b329e67abca37171ff84"
  },
  "kernelspec": {
   "display_name": "Python 3.9.4 64-bit ('wu': conda)",
   "language": "python",
   "name": "python3"
  },
  "language_info": {
   "codemirror_mode": {
    "name": "ipython",
    "version": 3
   },
   "file_extension": ".py",
   "mimetype": "text/x-python",
   "name": "python",
   "nbconvert_exporter": "python",
   "pygments_lexer": "ipython3",
   "version": "3.9.7"
  },
  "orig_nbformat": 4
 },
 "nbformat": 4,
 "nbformat_minor": 2
}
