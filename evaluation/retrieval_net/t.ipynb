{
 "cells": [
  {
   "cell_type": "code",
   "execution_count": 9,
   "metadata": {},
   "outputs": [],
   "source": [
    "def calculate_rank_n_accuracy(outputs, n=1):\n",
    "    \"\"\"Args:\n",
    "        x: Tensor, shape [B*B, 1]\n",
    "        n: rank\n",
    "    Note:\n",
    "        For paris A and B of batch size N,\n",
    "        such that x = [s(A[0],B[0]), ..., s(A[0],B[N]), ..., s(A[1],B[0]), ..., s(A[1],B[N]), ..., s(A[N],B[1]), ..., s(A[N],B[N])].\n",
    "    \"\"\"\n",
    "    y_pred_n = np.argsort(-outputs, axis=1)[:, :n]\n",
    "    y_true = np.arange(outputs.shape[0])[:, np.newaxis]\n",
    "    print(y_pred_n, y_true)\n",
    "    n_false = np.sum(np.sum(((y_true - y_pred_n) == 0), axis=1) == 0)\n",
    "    print(n_false)\n",
    "    acc = 1 - n_false / outputs.shape[0]\n",
    "    return acc"
   ]
  },
  {
   "cell_type": "code",
   "execution_count": 10,
   "metadata": {},
   "outputs": [],
   "source": [
    "import numpy as np"
   ]
  },
  {
   "cell_type": "code",
   "execution_count": 11,
   "metadata": {},
   "outputs": [],
   "source": [
    "x = np.array([\n",
    "    [1, 2, 3],\n",
    "    [4, 5, 6],\n",
    "    [7, 8, 9]\n",
    "])"
   ]
  },
  {
   "cell_type": "code",
   "execution_count": 12,
   "metadata": {},
   "outputs": [
    {
     "name": "stdout",
     "output_type": "stream",
     "text": [
      "[[2]\n",
      " [2]\n",
      " [2]] [[0]\n",
      " [1]\n",
      " [2]]\n",
      "2\n"
     ]
    },
    {
     "data": {
      "text/plain": [
       "0.33333333333333337"
      ]
     },
     "execution_count": 12,
     "metadata": {},
     "output_type": "execute_result"
    }
   ],
   "source": [
    "calculate_rank_n_accuracy(x)"
   ]
  },
  {
   "cell_type": "code",
   "execution_count": null,
   "metadata": {},
   "outputs": [],
   "source": []
  }
 ],
 "metadata": {
  "interpreter": {
   "hash": "37c1ed16a00a63b5af7363df11059dd7eca776121b04b329e67abca37171ff84"
  },
  "kernelspec": {
   "display_name": "Python 3.9.7 64-bit ('wu': conda)",
   "language": "python",
   "name": "python3"
  },
  "language_info": {
   "codemirror_mode": {
    "name": "ipython",
    "version": 3
   },
   "file_extension": ".py",
   "mimetype": "text/x-python",
   "name": "python",
   "nbconvert_exporter": "python",
   "pygments_lexer": "ipython3",
   "version": "3.9.7"
  },
  "orig_nbformat": 4
 },
 "nbformat": 4,
 "nbformat_minor": 2
}
