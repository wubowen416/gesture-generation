{
 "cells": [
  {
   "cell_type": "code",
   "execution_count": 1,
   "metadata": {},
   "outputs": [],
   "source": [
    "from tools.fgd_util import EmbeddingSpaceEvaluator\n",
    "from tools.takekuchi_dataset_tool.rot_to_pos import rot2pos\n",
    "\n",
    "import numpy as np\n",
    "import torch as th\n",
    "import matplotlib.pyplot as plt\n",
    "\n",
    "import pickle"
   ]
  },
  {
   "cell_type": "code",
   "execution_count": 16,
   "metadata": {},
   "outputs": [],
   "source": [
    "import seaborn as sns\n",
    "from matplotlib.animation import FuncAnimation\n",
    "import matplotlib.pyplot as plt\n",
    "import matplotlib\n",
    "import numpy as np\n",
    "\n",
    "matplotlib.use('Agg')\n",
    "sns.set()\n",
    "\n",
    "lines = [\n",
    "        [0, 1], [1, 2], [2, 3], [3, 4], [4, 5],\n",
    "        [3, 6], [6, 7], [7, 8],\n",
    "        [3, 9], [9, 10], [10, 11]\n",
    "    ]\n",
    "\n",
    "def plot_position_3D(motion, path):\n",
    "\n",
    "    print(f'Plotting with length {motion.shape[0]}')\n",
    "    \n",
    "    def update_graph(num):\n",
    "        x, y, z = motion[num][::3], motion[num][1::3], motion[num][2::3]\n",
    "        graph._offsets3d = (x, y, z)\n",
    "        title.set_text('3D Test, step={}'.format(num))\n",
    "\n",
    "        for g_l, l in zip(graph_lines, lines):\n",
    "            g_l[0].set_data(x[l], y[l])\n",
    "            g_l[0].set_3d_properties(z[l])\n",
    "        \n",
    "    fig = plt.figure(dpi=200)\n",
    "    ax = fig.add_subplot(111, projection='3d')\n",
    "    title = ax.set_title('3D Test')\n",
    "    ax.set_xlabel('x')\n",
    "    ax.set_ylabel('y')\n",
    "    ax.set_zlabel('z')\n",
    "\n",
    "    graph = ax.scatter([], [], [], c='b', s=5, alpha=1)\n",
    "    graph_lines = [ax.plot([], [], [], c='b') for i, _ in enumerate(lines)]\n",
    "\n",
    "    ax.view_init(0, 45)\n",
    "    ax.set_ylim(-50, 50)\n",
    "    ax.set_zlim(0, 100)\n",
    "    ax.set_xlim(-50, 50)\n",
    "\n",
    "    anim = FuncAnimation(fig, update_graph, range(motion.shape[0]), interval=50)\n",
    "    anim.save(path)\n",
    "\n",
    "    plt.close()\n"
   ]
  },
  {
   "cell_type": "code",
   "execution_count": 3,
   "metadata": {},
   "outputs": [],
   "source": [
    "evaluator = EmbeddingSpaceEvaluator(embed_net_path='tools/fgd_chkpt/train_h36m_gesture_autoencoder_gesture_autoencoder_checkpoint_best.bin')"
   ]
  },
  {
   "cell_type": "code",
   "execution_count": 10,
   "metadata": {},
   "outputs": [],
   "source": [
    "evaluator.push_samples(None, None, poses, poses)"
   ]
  },
  {
   "cell_type": "code",
   "execution_count": 11,
   "metadata": {},
   "outputs": [
    {
     "data": {
      "text/plain": [
       "(-5.681649705796913e-19, 0.0)"
      ]
     },
     "execution_count": 11,
     "metadata": {},
     "output_type": "execute_result"
    }
   ],
   "source": [
    "evaluator.get_scores()"
   ]
  },
  {
   "cell_type": "code",
   "execution_count": 4,
   "metadata": {},
   "outputs": [],
   "source": [
    "with open('data/takekuchi/processed/mfcc_prosody_text/X_dev.p', 'rb') as f:\n",
    "    dev_input = pickle.load(f)\n",
    "with open('data/takekuchi/processed/mfcc_prosody_text/Y_dev.p', 'rb') as f:\n",
    "    dev_output = pickle.load(f)"
   ]
  },
  {
   "cell_type": "code",
   "execution_count": 14,
   "metadata": {},
   "outputs": [],
   "source": [
    "rot = dev_output[0]\n",
    "\n",
    "padding = np.zeros((rot.shape[0], 3))\n",
    "padding[:, 1] = 60.0\n",
    "rot_padded = np.concatenate([padding, rot], axis=-1)\n",
    "pos = rot2pos(rot_padded)"
   ]
  },
  {
   "cell_type": "code",
   "execution_count": 12,
   "metadata": {},
   "outputs": [
    {
     "data": {
      "text/plain": [
       "(227, 36)"
      ]
     },
     "execution_count": 12,
     "metadata": {},
     "output_type": "execute_result"
    }
   ],
   "source": [
    "pos.shape"
   ]
  },
  {
   "cell_type": "code",
   "execution_count": 17,
   "metadata": {},
   "outputs": [
    {
     "name": "stdout",
     "output_type": "stream",
     "text": [
      "Plotting with length 227\n"
     ]
    }
   ],
   "source": [
    "plot_position_3D(pos, 't.gif')"
   ]
  },
  {
   "cell_type": "code",
   "execution_count": null,
   "metadata": {},
   "outputs": [],
   "source": []
  }
 ],
 "metadata": {
  "interpreter": {
   "hash": "8e3d026b504dd6c30cbdbdb94190db70379a30678f276052f66384aab8cd3876"
  },
  "kernelspec": {
   "display_name": "Python 3.6.13 64-bit ('trimodal': conda)",
   "language": "python",
   "name": "python3"
  },
  "language_info": {
   "codemirror_mode": {
    "name": "ipython",
    "version": 3
   },
   "file_extension": ".py",
   "mimetype": "text/x-python",
   "name": "python",
   "nbconvert_exporter": "python",
   "pygments_lexer": "ipython3",
   "version": "3.6.13"
  },
  "orig_nbformat": 4
 },
 "nbformat": 4,
 "nbformat_minor": 2
}
